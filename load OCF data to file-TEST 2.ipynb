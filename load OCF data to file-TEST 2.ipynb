{
 "cells": [
  {
   "cell_type": "markdown",
   "metadata": {},
   "source": [
    "#### imports"
   ]
  },
  {
   "cell_type": "code",
   "execution_count": 12,
   "metadata": {},
   "outputs": [],
   "source": [
    "import csv\n",
    "import requests\n",
    "import math\n",
    "import pprint\n",
    "import os\n",
    "import json\n",
    "import pandas as pd\n",
    "from pandas.io.json import json_normalize\n",
    "from datetime import datetime, date, time\n",
    "from IPython.display import clear_output"
   ]
  },
  {
   "cell_type": "code",
   "execution_count": 13,
   "metadata": {},
   "outputs": [
    {
     "name": "stdout",
     "output_type": "stream",
     "text": [
      "/Users/jpy/Dropbox/_FLASK/__JUPYTER__/OCF\n"
     ]
    }
   ],
   "source": [
    "cwd = os.getcwd()\n",
    "print cwd"
   ]
  },
  {
   "cell_type": "code",
   "execution_count": 14,
   "metadata": {},
   "outputs": [],
   "source": [
    "pp = pprint.PrettyPrinter(indent=2)"
   ]
  },
  {
   "cell_type": "markdown",
   "metadata": {},
   "source": [
    "#### common functions"
   ]
  },
  {
   "cell_type": "code",
   "execution_count": 4,
   "metadata": {},
   "outputs": [],
   "source": [
    "def findFromPathString(path_string, JSON, separator=\"/\"):     \n",
    "  paths = path_string.split(separator)\n",
    "  data = JSON\n",
    "  for i in range(0,len(paths)):\n",
    "    data = data[paths[i]]\n",
    "  return data"
   ]
  },
  {
   "cell_type": "code",
   "execution_count": 5,
   "metadata": {},
   "outputs": [],
   "source": [
    "def flatten_json(y):\n",
    "    out = {}\n",
    "\n",
    "    def flatten(x, name=''):\n",
    "        if type(x) is dict:\n",
    "            for a in x:\n",
    "                flatten(x[a], name + a + '_')\n",
    "        elif type(x) is list:\n",
    "            i = 0\n",
    "            for a in x:\n",
    "                flatten(a, name + str(i) + '_')\n",
    "                i += 1\n",
    "        else:\n",
    "            out[name[:-1]] = x\n",
    "\n",
    "    flatten(y)\n",
    "    return out"
   ]
  },
  {
   "cell_type": "markdown",
   "metadata": {},
   "source": [
    "#### settings"
   ]
  },
  {
   "cell_type": "code",
   "execution_count": 48,
   "metadata": {},
   "outputs": [],
   "source": [
    "\n",
    "root_url_corpos = \"http://opencorporatefacts.fr/api/corporates\"\n",
    "# params_corpos = { 'page' : 1 , 'id' : None , 'CompanyNumber' : None }\n",
    "results_path_corpos = \"hydra:member\"\n",
    "output_filename_corpos = \"datasets/corporations/corpos\"\n",
    "\n",
    "root_url_accounts = \"http://opencorporatefacts.fr/api/compte_de_resultats\"\n",
    "# params_accounts = { 'page' : 1, 'Corporate' : None }\n",
    "results_path_accounts = \"hydra:member\"\n",
    "output_filename_accounts = \"datasets/account_results/accounts\"\n",
    "\n",
    "root_url_companies = \"http://api.cquest.org/company/\" ### pass CompanyNumber after root_url\n",
    "output_filename_companies = \"datasets/companies_data/companies\"\n"
   ]
  },
  {
   "cell_type": "markdown",
   "metadata": {},
   "source": [
    "#### tests"
   ]
  },
  {
   "cell_type": "code",
   "execution_count": 49,
   "metadata": {},
   "outputs": [],
   "source": [
    "#print pp.pprint(results)"
   ]
  },
  {
   "cell_type": "markdown",
   "metadata": {},
   "source": [
    "#### main requests functions"
   ]
  },
  {
   "cell_type": "code",
   "execution_count": null,
   "metadata": {},
   "outputs": [],
   "source": [
    "def generate_filename( output_filename, page_treshold, splite_files_treshold_pages, max_page, only_filename=False ) :\n",
    "    \n",
    "    start_page = page_treshold\n",
    "    end_page = page_treshold + splite_files_treshold_pages - 1\n",
    "    if end_page > max_page : \n",
    "        end_page = max_page\n",
    "    \n",
    "    if only_filename : \n",
    "        prefix = ''\n",
    "    else : \n",
    "        prefix = cwd + '/'\n",
    "        \n",
    "    filename = prefix + output_filename + '-pageStart_' + str(start_page) + '_to_' + str(end_page)\n",
    "    \n",
    "    return filename\n",
    "    \n",
    "def get_req_results ( \n",
    "    url, \n",
    "    pages_range, \n",
    "    number_of_pages, \n",
    "    results_path, \n",
    "    output_filename, \n",
    "    start_page=1, \n",
    "    splite_files_treshold_pages=1000,\n",
    "    debug=False, \n",
    "    out_formats=[\"csv\"] \n",
    "    ) : \n",
    "    ''' \n",
    "    retrieve results from requests \n",
    "    and write csv \n",
    "    works with API platform only for now\n",
    "    '''\n",
    "    \n",
    "    start_time = datetime.now()\n",
    "    \n",
    "    ### count pages\n",
    "    count = 0\n",
    "    page_treshold = 0\n",
    "    \n",
    "    ### requests and writing file\n",
    "    \n",
    "    for page in pages_range : \n",
    "    \n",
    "        if page > 0 and page >= start_page  : \n",
    "            \n",
    "            ### treshold and split into several files\n",
    "            if page % splite_files_treshold_pages == 0 :\n",
    "                page_treshold = page\n",
    "                count = 0\n",
    "                \n",
    "            ### output files\n",
    "            if \"csv\" in out_formats :\n",
    "                file_data_csv_filename  = generate_filename( output_filename, page_treshold, splite_files_treshold_pages, number_of_pages )\n",
    "                file_data_csv  = file_data_csv_filename + '.csv'\n",
    "\n",
    "            if \"json\" in out_formats : \n",
    "                file_data_json_filename = generate_filename( output_filename, page_treshold, splite_files_treshold_pages, number_of_pages )\n",
    "                file_data_json = file_data_json_filename + '.json'\n",
    "            \n",
    "            clear_output( wait=True ) \n",
    "            \n",
    "            resp = requests.get( url, params = { 'page' : page } ).json()\n",
    "            results = findFromPathString( results_path, resp )\n",
    "            \n",
    "            page_time = datetime.now()\n",
    "            delta_time = page_time - start_time\n",
    "            \n",
    "            filename = generate_filename( output_filename, page_treshold, splite_files_treshold_pages, number_of_pages, only_filename=True )\n",
    "            \n",
    "            print \"\\nPage number : {} / {} \\\n",
    "                    \\ndelta_time (after request) : {}\\\n",
    "                    \\npage_treshold : {}\\\n",
    "                    \\nfilename : {}\\\n",
    "                    \\n\".format(page, number_of_pages, delta_time, page_treshold, filename)\n",
    "\n",
    "            # loop results\n",
    "            for data in results : \n",
    "                \n",
    "                if debug : \n",
    "                    # print pp.pprint(data) \n",
    "                    print data\n",
    "                    print\n",
    "                data_flat = flatten_json(data)\n",
    "                # print data_flat\n",
    "                \n",
    "                ### CSV\n",
    "                if \"csv\" in out_formats : \n",
    "                    \n",
    "                    ### creates headers\n",
    "                    if count == 0:\n",
    "                        with open(file_data_csv, 'w') as csv_file :\n",
    "                            csv_writer = csv.writer(csv_file, delimiter=';')\n",
    "                            header = data.keys()\n",
    "                            csv_writer.writerow(header)\n",
    "                            count += 1\n",
    "                    else : \n",
    "                        with open(file_data_csv, 'a') as csv_file :\n",
    "                            csv_writer = csv.writer(csv_file, delimiter=';')\n",
    "                            csv_writer.writerow( data.values() )\n",
    "                            count += 1\n",
    "\n",
    "                        \n",
    "                ### JSON\n",
    "                if \"json\" in out_formats : \n",
    "                    if count == 0 :\n",
    "                        with open(file_data_json, 'w') as json_file :\n",
    "                            json_file.write(json.dumps( [data] ).encode())         #If empty, write an array\n",
    "                            count += 1\n",
    "                    else : \n",
    "                        with open(file_data_json, 'ab+') as json_file :\n",
    "                            json_file.seek(-1,2)           \n",
    "                            json_file.truncate()                           #Remove the last character, open the array\n",
    "                            json_file.write(' , '.encode())                #Write the separator\n",
    "                            json_file.write(json.dumps(data).encode())     #Dump the dictionary\n",
    "                            json_file.write(']'.encode())                  #Close the array\n",
    "                            count += 1\n"
   ]
  },
  {
   "cell_type": "markdown",
   "metadata": {},
   "source": [
    "#### getting data"
   ]
  },
  {
   "cell_type": "code",
   "execution_count": 61,
   "metadata": {},
   "outputs": [
    {
     "name": "stdout",
     "output_type": "stream",
     "text": [
      "\n",
      "Page number : 29 / 30                     \n",
      "delta_time (after request) : 0:00:12.225779                    \n",
      "page_treshold : 20                    \n",
      "filename : datasets/account_results/accounts_test-pageStart_20                    \n",
      "\n",
      "{u'DotationProvisions': 0, u'EffectifsMoyens': -1, u'DifferenceNegativeChange': 0, u'RepriseDepreciationEtProvisionTransfertsCharges': 0, u'ResultatFinancier': 0, u'DotationsFinancieresAmortissementDepreciationProvision': 0, u'ChiffresAffairesNet': 51831, u'VariationStockMarchandise': 0, u'year': 2017, u'DotationExceptionnelleAmortissementDepreciationProvision': 0, u'RepriseDepreciationProvisionTransfertCharge': 0, u'AchatsDeMarchandises': 0, u'Corporate': u'/api/corporates/2929', u'id': 841, u'VenteMarchandises': 0, u'ImpotTaxesEtVersementsAssimiles': 1057, u'AutresAchatEtChargesExternes': 17035, u'Benefice': 6617, u'ResultatExploitation': 7785, u'AutreInteretEtProduitAssimile': 0, u'ParticipationSalariesAuxResultats': 0, u'InteretEtChargeAssimilees': 0, u'ProduitsExploitation': 51831, u'ChargesFinancieres': 0, u'AutresCharges': 0, u'Dividende': -1, u'ChargesNetteCessionValeurMobiliereDePlacement': 0, u'ProduitsAutresValeursMobiliereEtCreancesActifImmobilise': 0, u'ProductionStocked': 0, u'SubventionsExploitation': 0, u'RepriseDepreciationProvisionsTransfertCharges': 0, u'VariationStockMatierePremiereEtAppro': 0, u'DifferencesPositivesChange': 0, u'ProductionVendueDeBiens': 0, u'ResultatExceptionnel': 0, u'ProduitExceptionnelOperationCapital': 0, u'DotationDepreciationImmobilisations': 0, u'AchatMatierePremiereAutreAppro': 0, u'ProductionImmobilisee': 0, u'@id': u'/api/compte_de_resultats/841', u'DotationAmortissementImmobilisations': 1227, u'ChargesExceptionnelleOperationGestion': 0, u'ProduitsFinanciersParticipations': 0, u'ProduitsNetsCessionsValeursMobilesPlacement': 0, u'ProductionVendueDeServices': 51831, u'ProduitsFinanciers': 0, u'ProduitExceptionnelOperationGestion': 0, u'ChargesSociales': 6725, u'SalairesEtTraitements': 18000, u'ImpotsSurLesBenefices': 1168, u'ChargesExploitation': 44045, u'AutresProduits': 0, u'@type': u'CompteDeResultat', u'ChargesExceptionnelleOperationCapital': 0, u'DotationDepreciationActifCirculant': 0}\n",
      "\n",
      "{u'DotationProvisions': 0, u'EffectifsMoyens': -1, u'DifferenceNegativeChange': 0, u'RepriseDepreciationEtProvisionTransfertsCharges': 0, u'ResultatFinancier': 0, u'DotationsFinancieresAmortissementDepreciationProvision': 0, u'ChiffresAffairesNet': 14961, u'VariationStockMarchandise': 1434, u'year': 2016, u'DotationExceptionnelleAmortissementDepreciationProvision': 0, u'RepriseDepreciationProvisionTransfertCharge': 0, u'AchatsDeMarchandises': 1528, u'Corporate': u'/api/corporates/2933', u'id': 842, u'VenteMarchandises': 2962, u'ImpotTaxesEtVersementsAssimiles': 287, u'AutresAchatEtChargesExternes': 13091, u'Benefice': -2010, u'ResultatExploitation': -1840, u'AutreInteretEtProduitAssimile': 0, u'ParticipationSalariesAuxResultats': 0, u'InteretEtChargeAssimilees': 0, u'ProduitsExploitation': 14971, u'ChargesFinancieres': 0, u'AutresCharges': 470, u'Dividende': -1, u'ChargesNetteCessionValeurMobiliereDePlacement': 0, u'ProduitsAutresValeursMobiliereEtCreancesActifImmobilise': 0, u'ProductionStocked': 0, u'SubventionsExploitation': 0, u'RepriseDepreciationProvisionsTransfertCharges': 0, u'VariationStockMatierePremiereEtAppro': 0, u'DifferencesPositivesChange': 0, u'ProductionVendueDeBiens': 11999, u'ResultatExceptionnel': -170, u'ProduitExceptionnelOperationCapital': 0, u'DotationDepreciationImmobilisations': 0, u'AchatMatierePremiereAutreAppro': 0, u'ProductionImmobilisee': 0, u'@id': u'/api/compte_de_resultats/842', u'DotationAmortissementImmobilisations': 0, u'ChargesExceptionnelleOperationGestion': 170, u'ProduitsFinanciersParticipations': 0, u'ProduitsNetsCessionsValeursMobilesPlacement': 0, u'ProductionVendueDeServices': 0, u'ProduitsFinanciers': 0, u'ProduitExceptionnelOperationGestion': 0, u'ChargesSociales': 0, u'SalairesEtTraitements': 0, u'ImpotsSurLesBenefices': 0, u'ChargesExploitation': 16811, u'AutresProduits': 10, u'@type': u'CompteDeResultat', u'ChargesExceptionnelleOperationCapital': 0, u'DotationDepreciationActifCirculant': 0}\n",
      "\n",
      "{u'DotationProvisions': 0, u'EffectifsMoyens': -1, u'DifferenceNegativeChange': 0, u'RepriseDepreciationEtProvisionTransfertsCharges': 0, u'ResultatFinancier': 167, u'DotationsFinancieresAmortissementDepreciationProvision': 0, u'ChiffresAffairesNet': 38560, u'VariationStockMarchandise': 0, u'year': 2017, u'DotationExceptionnelleAmortissementDepreciationProvision': 0, u'RepriseDepreciationProvisionTransfertCharge': 0, u'AchatsDeMarchandises': 0, u'Corporate': u'/api/corporates/2936', u'id': 843, u'VenteMarchandises': 0, u'ImpotTaxesEtVersementsAssimiles': 0, u'AutresAchatEtChargesExternes': 22551, u'Benefice': 9256, u'ResultatExploitation': 10281, u'AutreInteretEtProduitAssimile': 167, u'ParticipationSalariesAuxResultats': 0, u'InteretEtChargeAssimilees': 0, u'ProduitsExploitation': 38560, u'ChargesFinancieres': 0, u'AutresCharges': 0, u'Dividende': -1, u'ChargesNetteCessionValeurMobiliereDePlacement': 0, u'ProduitsAutresValeursMobiliereEtCreancesActifImmobilise': 0, u'ProductionStocked': 0, u'SubventionsExploitation': 0, u'RepriseDepreciationProvisionsTransfertCharges': 0, u'VariationStockMatierePremiereEtAppro': 0, u'DifferencesPositivesChange': 0, u'ProductionVendueDeBiens': 0, u'ResultatExceptionnel': -147, u'ProduitExceptionnelOperationCapital': 333, u'DotationDepreciationImmobilisations': 0, u'AchatMatierePremiereAutreAppro': 0, u'ProductionImmobilisee': 0, u'@id': u'/api/compte_de_resultats/843', u'DotationAmortissementImmobilisations': 5727, u'ChargesExceptionnelleOperationGestion': 0, u'ProduitsFinanciersParticipations': 0, u'ProduitsNetsCessionsValeursMobilesPlacement': 0, u'ProductionVendueDeServices': 38560, u'ProduitsFinanciers': 167, u'ProduitExceptionnelOperationGestion': 0, u'ChargesSociales': 0, u'SalairesEtTraitements': 0, u'ImpotsSurLesBenefices': 1044, u'ChargesExploitation': 28279, u'AutresProduits': 0, u'@type': u'CompteDeResultat', u'ChargesExceptionnelleOperationCapital': 481, u'DotationDepreciationActifCirculant': 0}\n",
      "\n",
      "{u'DotationProvisions': 0, u'EffectifsMoyens': -1, u'DifferenceNegativeChange': 25, u'RepriseDepreciationEtProvisionTransfertsCharges': 0, u'ResultatFinancier': -598, u'DotationsFinancieresAmortissementDepreciationProvision': 0, u'ChiffresAffairesNet': 933205, u'VariationStockMarchandise': -19639, u'year': 2016, u'DotationExceptionnelleAmortissementDepreciationProvision': 0, u'RepriseDepreciationProvisionTransfertCharge': 0, u'AchatsDeMarchandises': 633014, u'Corporate': u'/api/corporates/2937', u'id': 844, u'VenteMarchandises': 926629, u'ImpotTaxesEtVersementsAssimiles': 14411, u'AutresAchatEtChargesExternes': 72858, u'Benefice': 24557, u'ResultatExploitation': 28796, u'AutreInteretEtProduitAssimile': 275, u'ParticipationSalariesAuxResultats': 0, u'InteretEtChargeAssimilees': 849, u'ProduitsExploitation': 942433, u'ChargesFinancieres': 874, u'AutresCharges': 171, u'Dividende': -1, u'ChargesNetteCessionValeurMobiliereDePlacement': 0, u'ProduitsAutresValeursMobiliereEtCreancesActifImmobilise': 0, u'ProductionStocked': 0, u'SubventionsExploitation': 0, u'RepriseDepreciationProvisionsTransfertCharges': 9227, u'VariationStockMatierePremiereEtAppro': 0, u'DifferencesPositivesChange': 0, u'ProductionVendueDeBiens': 0, u'ResultatExceptionnel': 124, u'ProduitExceptionnelOperationCapital': 0, u'DotationDepreciationImmobilisations': 0, u'AchatMatierePremiereAutreAppro': 1920, u'ProductionImmobilisee': 0, u'@id': u'/api/compte_de_resultats/844', u'DotationAmortissementImmobilisations': 17549, u'ChargesExceptionnelleOperationGestion': 21, u'ProduitsFinanciersParticipations': 0, u'ProduitsNetsCessionsValeursMobilesPlacement': 0, u'ProductionVendueDeServices': 6577, u'ProduitsFinanciers': 275, u'ProduitExceptionnelOperationGestion': 145, u'ChargesSociales': 64471, u'SalairesEtTraitements': 126216, u'ImpotsSurLesBenefices': 3764, u'ChargesExploitation': 913637, u'AutresProduits': 1, u'@type': u'CompteDeResultat', u'ChargesExceptionnelleOperationCapital': 0, u'DotationDepreciationActifCirculant': 2665}\n",
      "\n",
      "{u'DotationProvisions': 0, u'EffectifsMoyens': 4, u'DifferenceNegativeChange': 0, u'RepriseDepreciationEtProvisionTransfertsCharges': 0, u'ResultatFinancier': 0, u'DotationsFinancieresAmortissementDepreciationProvision': 0, u'ChiffresAffairesNet': 453577, u'VariationStockMarchandise': 0, u'year': 2016, u'DotationExceptionnelleAmortissementDepreciationProvision': 0, u'RepriseDepreciationProvisionTransfertCharge': 0, u'AchatsDeMarchandises': 0, u'Corporate': u'/api/corporates/2942', u'id': 845, u'VenteMarchandises': 0, u'ImpotTaxesEtVersementsAssimiles': 2105, u'AutresAchatEtChargesExternes': 255346, u'Benefice': 6664, u'ResultatExploitation': 9796, u'AutreInteretEtProduitAssimile': 0, u'ParticipationSalariesAuxResultats': 0, u'InteretEtChargeAssimilees': 0, u'ProduitsExploitation': 453577, u'ChargesFinancieres': 0, u'AutresCharges': 0, u'Dividende': -1, u'ChargesNetteCessionValeurMobiliereDePlacement': 0, u'ProduitsAutresValeursMobiliereEtCreancesActifImmobilise': 0, u'ProductionStocked': 0, u'SubventionsExploitation': 0, u'RepriseDepreciationProvisionsTransfertCharges': 0, u'VariationStockMatierePremiereEtAppro': 0, u'DifferencesPositivesChange': 0, u'ProductionVendueDeBiens': 0, u'ResultatExceptionnel': -2089, u'ProduitExceptionnelOperationCapital': 0, u'DotationDepreciationImmobilisations': 0, u'AchatMatierePremiereAutreAppro': 56296, u'ProductionImmobilisee': 0, u'@id': u'/api/compte_de_resultats/845', u'DotationAmortissementImmobilisations': 2142, u'ChargesExceptionnelleOperationGestion': 2089, u'ProduitsFinanciersParticipations': 0, u'ProduitsNetsCessionsValeursMobilesPlacement': 0, u'ProductionVendueDeServices': 453577, u'ProduitsFinanciers': 0, u'ProduitExceptionnelOperationGestion': 0, u'ChargesSociales': 49193, u'SalairesEtTraitements': 78698, u'ImpotsSurLesBenefices': 1042, u'ChargesExploitation': 443781, u'AutresProduits': 0, u'@type': u'CompteDeResultat', u'ChargesExceptionnelleOperationCapital': 0, u'DotationDepreciationActifCirculant': 0}\n",
      "\n",
      "{u'DotationProvisions': 0, u'EffectifsMoyens': -1, u'DifferenceNegativeChange': 0, u'RepriseDepreciationEtProvisionTransfertsCharges': 0, u'ResultatFinancier': -18855, u'DotationsFinancieresAmortissementDepreciationProvision': 0, u'ChiffresAffairesNet': 174201, u'VariationStockMarchandise': 0, u'year': 2016, u'DotationExceptionnelleAmortissementDepreciationProvision': 0, u'RepriseDepreciationProvisionTransfertCharge': 43765, u'AchatsDeMarchandises': 0, u'Corporate': u'/api/corporates/2943', u'id': 846, u'VenteMarchandises': 0, u'ImpotTaxesEtVersementsAssimiles': 2678, u'AutresAchatEtChargesExternes': 19737, u'Benefice': 120322, u'ResultatExploitation': 93279, u'AutreInteretEtProduitAssimile': 0, u'ParticipationSalariesAuxResultats': 0, u'InteretEtChargeAssimilees': 18855, u'ProduitsExploitation': 174299, u'ChargesFinancieres': 18855, u'AutresCharges': 71, u'Dividende': -1, u'ChargesNetteCessionValeurMobiliereDePlacement': 0, u'ProduitsAutresValeursMobiliereEtCreancesActifImmobilise': 0, u'ProductionStocked': 0, u'SubventionsExploitation': 0, u'RepriseDepreciationProvisionsTransfertCharges': 0, u'VariationStockMatierePremiereEtAppro': 0, u'DifferencesPositivesChange': 0, u'ProductionVendueDeBiens': 174201, u'ResultatExceptionnel': 45898, u'ProduitExceptionnelOperationCapital': 0, u'DotationDepreciationImmobilisations': 0, u'AchatMatierePremiereAutreAppro': 0, u'ProductionImmobilisee': 0, u'@id': u'/api/compte_de_resultats/846', u'DotationAmortissementImmobilisations': 58535, u'ChargesExceptionnelleOperationGestion': 0, u'ProduitsFinanciersParticipations': 0, u'ProduitsNetsCessionsValeursMobilesPlacement': 0, u'ProductionVendueDeServices': 0, u'ProduitsFinanciers': 0, u'ProduitExceptionnelOperationGestion': 2133, u'ChargesSociales': 0, u'SalairesEtTraitements': 0, u'ImpotsSurLesBenefices': 0, u'ChargesExploitation': 81021, u'AutresProduits': 99, u'@type': u'CompteDeResultat', u'ChargesExceptionnelleOperationCapital': 0, u'DotationDepreciationActifCirculant': 0}\n",
      "\n",
      "{u'DotationProvisions': 0, u'EffectifsMoyens': -1, u'DifferenceNegativeChange': 0, u'RepriseDepreciationEtProvisionTransfertsCharges': 0, u'ResultatFinancier': -3806, u'DotationsFinancieresAmortissementDepreciationProvision': 0, u'ChiffresAffairesNet': 18529, u'VariationStockMarchandise': 0, u'year': 2017, u'DotationExceptionnelleAmortissementDepreciationProvision': 0, u'RepriseDepreciationProvisionTransfertCharge': 0, u'AchatsDeMarchandises': 0, u'Corporate': u'/api/corporates/2944', u'id': 847, u'VenteMarchandises': 0, u'ImpotTaxesEtVersementsAssimiles': 483, u'AutresAchatEtChargesExternes': 3798, u'Benefice': 3667, u'ResultatExploitation': 7473, u'AutreInteretEtProduitAssimile': 0, u'ParticipationSalariesAuxResultats': 0, u'InteretEtChargeAssimilees': 3806, u'ProduitsExploitation': 18555, u'ChargesFinancieres': 3806, u'AutresCharges': 0, u'Dividende': -1, u'ChargesNetteCessionValeurMobiliereDePlacement': 0, u'ProduitsAutresValeursMobiliereEtCreancesActifImmobilise': 0, u'ProductionStocked': 0, u'SubventionsExploitation': 0, u'RepriseDepreciationProvisionsTransfertCharges': 0, u'VariationStockMatierePremiereEtAppro': 0, u'DifferencesPositivesChange': 0, u'ProductionVendueDeBiens': 14829, u'ResultatExceptionnel': 0, u'ProduitExceptionnelOperationCapital': 0, u'DotationDepreciationImmobilisations': 0, u'AchatMatierePremiereAutreAppro': 0, u'ProductionImmobilisee': 0, u'@id': u'/api/compte_de_resultats/847', u'DotationAmortissementImmobilisations': 6801, u'ChargesExceptionnelleOperationGestion': 0, u'ProduitsFinanciersParticipations': 0, u'ProduitsNetsCessionsValeursMobilesPlacement': 0, u'ProductionVendueDeServices': 3700, u'ProduitsFinanciers': 0, u'ProduitExceptionnelOperationGestion': 0, u'ChargesSociales': 0, u'SalairesEtTraitements': 0, u'ImpotsSurLesBenefices': 0, u'ChargesExploitation': 11082, u'AutresProduits': 26, u'@type': u'CompteDeResultat', u'ChargesExceptionnelleOperationCapital': 0, u'DotationDepreciationActifCirculant': 0}\n",
      "\n",
      "{u'DotationProvisions': 0, u'EffectifsMoyens': -1, u'DifferenceNegativeChange': 0, u'RepriseDepreciationEtProvisionTransfertsCharges': 0, u'ResultatFinancier': 0, u'DotationsFinancieresAmortissementDepreciationProvision': 0, u'ChiffresAffairesNet': 214430, u'VariationStockMarchandise': 0, u'year': 2016, u'DotationExceptionnelleAmortissementDepreciationProvision': 0, u'RepriseDepreciationProvisionTransfertCharge': 0, u'AchatsDeMarchandises': 0, u'Corporate': u'/api/corporates/2953', u'id': 848, u'VenteMarchandises': 0, u'ImpotTaxesEtVersementsAssimiles': 0, u'AutresAchatEtChargesExternes': 191689, u'Benefice': 18160, u'ResultatExploitation': 22225, u'AutreInteretEtProduitAssimile': 0, u'ParticipationSalariesAuxResultats': 0, u'InteretEtChargeAssimilees': 0, u'ProduitsExploitation': 214431, u'ChargesFinancieres': 0, u'AutresCharges': 0, u'Dividende': -1, u'ChargesNetteCessionValeurMobiliereDePlacement': 0, u'ProduitsAutresValeursMobiliereEtCreancesActifImmobilise': 0, u'ProductionStocked': 0, u'SubventionsExploitation': 0, u'RepriseDepreciationProvisionsTransfertCharges': 0, u'VariationStockMatierePremiereEtAppro': 0, u'DifferencesPositivesChange': 0, u'ProductionVendueDeBiens': 0, u'ResultatExceptionnel': -730, u'ProduitExceptionnelOperationCapital': 0, u'DotationDepreciationImmobilisations': 0, u'AchatMatierePremiereAutreAppro': 0, u'ProductionImmobilisee': 0, u'@id': u'/api/compte_de_resultats/848', u'DotationAmortissementImmobilisations': 516, u'ChargesExceptionnelleOperationGestion': 730, u'ProduitsFinanciersParticipations': 0, u'ProduitsNetsCessionsValeursMobilesPlacement': 0, u'ProductionVendueDeServices': 214430, u'ProduitsFinanciers': 0, u'ProduitExceptionnelOperationGestion': 0, u'ChargesSociales': 0, u'SalairesEtTraitements': 0, u'ImpotsSurLesBenefices': 3334, u'ChargesExploitation': 192206, u'AutresProduits': 0, u'@type': u'CompteDeResultat', u'ChargesExceptionnelleOperationCapital': 0, u'DotationDepreciationActifCirculant': 0}\n",
      "\n",
      "{u'DotationProvisions': 0, u'EffectifsMoyens': -1, u'DifferenceNegativeChange': 0, u'RepriseDepreciationEtProvisionTransfertsCharges': 0, u'ResultatFinancier': 0, u'DotationsFinancieresAmortissementDepreciationProvision': 0, u'ChiffresAffairesNet': 587688, u'VariationStockMarchandise': 0, u'year': 2017, u'DotationExceptionnelleAmortissementDepreciationProvision': 0, u'RepriseDepreciationProvisionTransfertCharge': 0, u'AchatsDeMarchandises': 0, u'Corporate': u'/api/corporates/2956', u'id': 849, u'VenteMarchandises': 0, u'ImpotTaxesEtVersementsAssimiles': 4049, u'AutresAchatEtChargesExternes': 353865, u'Benefice': -2333, u'ResultatExploitation': 6987, u'AutreInteretEtProduitAssimile': 0, u'ParticipationSalariesAuxResultats': 0, u'InteretEtChargeAssimilees': 0, u'ProduitsExploitation': 591168, u'ChargesFinancieres': 0, u'AutresCharges': 30, u'Dividende': -1, u'ChargesNetteCessionValeurMobiliereDePlacement': 0, u'ProduitsAutresValeursMobiliereEtCreancesActifImmobilise': 0, u'ProductionStocked': 0, u'SubventionsExploitation': 0, u'RepriseDepreciationProvisionsTransfertCharges': 760, u'VariationStockMatierePremiereEtAppro': 0, u'DifferencesPositivesChange': 0, u'ProductionVendueDeBiens': 0, u'ResultatExceptionnel': -9320, u'ProduitExceptionnelOperationCapital': 29300, u'DotationDepreciationImmobilisations': 0, u'AchatMatierePremiereAutreAppro': 0, u'ProductionImmobilisee': 0, u'@id': u'/api/compte_de_resultats/849', u'DotationAmortissementImmobilisations': 21138, u'ChargesExceptionnelleOperationGestion': 4807, u'ProduitsFinanciersParticipations': 0, u'ProduitsNetsCessionsValeursMobilesPlacement': 0, u'ProductionVendueDeServices': 587688, u'ProduitsFinanciers': 0, u'ProduitExceptionnelOperationGestion': 0, u'ChargesSociales': 77200, u'SalairesEtTraitements': 127897, u'ImpotsSurLesBenefices': 0, u'ChargesExploitation': 584181, u'AutresProduits': 2719, u'@type': u'CompteDeResultat', u'ChargesExceptionnelleOperationCapital': 33812, u'DotationDepreciationActifCirculant': 0}\n",
      "\n",
      "{u'DotationProvisions': 0, u'EffectifsMoyens': -1, u'DifferenceNegativeChange': 0, u'RepriseDepreciationEtProvisionTransfertsCharges': 0, u'ResultatFinancier': -9, u'DotationsFinancieresAmortissementDepreciationProvision': 0, u'ChiffresAffairesNet': 108417, u'VariationStockMarchandise': 0, u'year': 2016, u'DotationExceptionnelleAmortissementDepreciationProvision': 0, u'RepriseDepreciationProvisionTransfertCharge': 0, u'AchatsDeMarchandises': 0, u'Corporate': u'/api/corporates/2958', u'id': 850, u'VenteMarchandises': 0, u'ImpotTaxesEtVersementsAssimiles': 751, u'AutresAchatEtChargesExternes': 35864, u'Benefice': 54815, u'ResultatExploitation': 64948, u'AutreInteretEtProduitAssimile': 0, u'ParticipationSalariesAuxResultats': 0, u'InteretEtChargeAssimilees': 9, u'ProduitsExploitation': 108422, u'ChargesFinancieres': 9, u'AutresCharges': 111, u'Dividende': -1, u'ChargesNetteCessionValeurMobiliereDePlacement': 0, u'ProduitsAutresValeursMobiliereEtCreancesActifImmobilise': 0, u'ProductionStocked': 0, u'SubventionsExploitation': 0, u'RepriseDepreciationProvisionsTransfertCharges': 0, u'VariationStockMatierePremiereEtAppro': 0, u'DifferencesPositivesChange': 0, u'ProductionVendueDeBiens': 0, u'ResultatExceptionnel': -125, u'ProduitExceptionnelOperationCapital': 0, u'DotationDepreciationImmobilisations': 0, u'AchatMatierePremiereAutreAppro': 0, u'ProductionImmobilisee': 0, u'@id': u'/api/compte_de_resultats/850', u'DotationAmortissementImmobilisations': 6749, u'ChargesExceptionnelleOperationGestion': 125, u'ProduitsFinanciersParticipations': 0, u'ProduitsNetsCessionsValeursMobilesPlacement': 0, u'ProductionVendueDeServices': 108417, u'ProduitsFinanciers': 0, u'ProduitExceptionnelOperationGestion': 0, u'ChargesSociales': 0, u'SalairesEtTraitements': 0, u'ImpotsSurLesBenefices': 9999, u'ChargesExploitation': 43475, u'AutresProduits': 5, u'@type': u'CompteDeResultat', u'ChargesExceptionnelleOperationCapital': 0, u'DotationDepreciationActifCirculant': 0}\n",
      "\n",
      "{u'DotationProvisions': 0, u'EffectifsMoyens': -1, u'DifferenceNegativeChange': 0, u'RepriseDepreciationEtProvisionTransfertsCharges': 0, u'ResultatFinancier': 103344, u'DotationsFinancieresAmortissementDepreciationProvision': 0, u'ChiffresAffairesNet': 0, u'VariationStockMarchandise': 0, u'year': 2016, u'DotationExceptionnelleAmortissementDepreciationProvision': 0, u'RepriseDepreciationProvisionTransfertCharge': 0, u'AchatsDeMarchandises': 0, u'Corporate': u'/api/corporates/2959', u'id': 851, u'VenteMarchandises': 0, u'ImpotTaxesEtVersementsAssimiles': 0, u'AutresAchatEtChargesExternes': 3575, u'Benefice': 60241, u'ResultatExploitation': -3575, u'AutreInteretEtProduitAssimile': 0, u'ParticipationSalariesAuxResultats': 0, u'InteretEtChargeAssimilees': 137, u'ProduitsExploitation': 0, u'ChargesFinancieres': 137, u'AutresCharges': 0, u'Dividende': -1, u'ChargesNetteCessionValeurMobiliereDePlacement': 0, u'ProduitsAutresValeursMobiliereEtCreancesActifImmobilise': 0, u'ProductionStocked': 0, u'SubventionsExploitation': 0, u'RepriseDepreciationProvisionsTransfertCharges': 0, u'VariationStockMatierePremiereEtAppro': 0, u'DifferencesPositivesChange': 0, u'ProductionVendueDeBiens': 0, u'ResultatExceptionnel': 0, u'ProduitExceptionnelOperationCapital': 0, u'DotationDepreciationImmobilisations': 0, u'AchatMatierePremiereAutreAppro': 0, u'ProductionImmobilisee': 0, u'@id': u'/api/compte_de_resultats/851', u'DotationAmortissementImmobilisations': 0, u'ChargesExceptionnelleOperationGestion': 0, u'ProduitsFinanciersParticipations': 103481, u'ProduitsNetsCessionsValeursMobilesPlacement': 0, u'ProductionVendueDeServices': 0, u'ProduitsFinanciers': 103481, u'ProduitExceptionnelOperationGestion': 0, u'ChargesSociales': 0, u'SalairesEtTraitements': 0, u'ImpotsSurLesBenefices': 39528, u'ChargesExploitation': 3575, u'AutresProduits': 0, u'@type': u'CompteDeResultat', u'ChargesExceptionnelleOperationCapital': 0, u'DotationDepreciationActifCirculant': 0}\n",
      "\n",
      "{u'DotationProvisions': 0, u'EffectifsMoyens': -1, u'DifferenceNegativeChange': 0, u'RepriseDepreciationEtProvisionTransfertsCharges': 0, u'ResultatFinancier': -322, u'DotationsFinancieresAmortissementDepreciationProvision': 0, u'ChiffresAffairesNet': 21362, u'VariationStockMarchandise': 0, u'year': 2016, u'DotationExceptionnelleAmortissementDepreciationProvision': 0, u'RepriseDepreciationProvisionTransfertCharge': 0, u'AchatsDeMarchandises': 13752, u'Corporate': u'/api/corporates/2960', u'id': 852, u'VenteMarchandises': 0, u'ImpotTaxesEtVersementsAssimiles': 0, u'AutresAchatEtChargesExternes': 7570, u'Benefice': 193, u'ResultatExploitation': 549, u'AutreInteretEtProduitAssimile': 0, u'ParticipationSalariesAuxResultats': 0, u'InteretEtChargeAssimilees': 322, u'ProduitsExploitation': 21362, u'ChargesFinancieres': 322, u'AutresCharges': 0, u'Dividende': -1, u'ChargesNetteCessionValeurMobiliereDePlacement': 0, u'ProduitsAutresValeursMobiliereEtCreancesActifImmobilise': 0, u'ProductionStocked': 0, u'SubventionsExploitation': 0, u'RepriseDepreciationProvisionsTransfertCharges': 0, u'VariationStockMatierePremiereEtAppro': -661, u'DifferencesPositivesChange': 0, u'ProductionVendueDeBiens': 0, u'ResultatExceptionnel': 0, u'ProduitExceptionnelOperationCapital': 0, u'DotationDepreciationImmobilisations': 0, u'AchatMatierePremiereAutreAppro': 151, u'ProductionImmobilisee': 0, u'@id': u'/api/compte_de_resultats/852', u'DotationAmortissementImmobilisations': 0, u'ChargesExceptionnelleOperationGestion': 0, u'ProduitsFinanciersParticipations': 0, u'ProduitsNetsCessionsValeursMobilesPlacement': 0, u'ProductionVendueDeServices': 21362, u'ProduitsFinanciers': 0, u'ProduitExceptionnelOperationGestion': 0, u'ChargesSociales': 0, u'SalairesEtTraitements': 0, u'ImpotsSurLesBenefices': 34, u'ChargesExploitation': 20813, u'AutresProduits': 0, u'@type': u'CompteDeResultat', u'ChargesExceptionnelleOperationCapital': 0, u'DotationDepreciationActifCirculant': 0}\n",
      "\n",
      "{u'DotationProvisions': 0, u'EffectifsMoyens': 2, u'DifferenceNegativeChange': 0, u'RepriseDepreciationEtProvisionTransfertsCharges': 0, u'ResultatFinancier': 0, u'DotationsFinancieresAmortissementDepreciationProvision': 0, u'ChiffresAffairesNet': 40816, u'VariationStockMarchandise': 0, u'year': 2015, u'DotationExceptionnelleAmortissementDepreciationProvision': 0, u'RepriseDepreciationProvisionTransfertCharge': 0, u'AchatsDeMarchandises': 0, u'Corporate': u'/api/corporates/2962', u'id': 853, u'VenteMarchandises': 0, u'ImpotTaxesEtVersementsAssimiles': 506, u'AutresAchatEtChargesExternes': 38545, u'Benefice': -4250, u'ResultatExploitation': -7430, u'AutreInteretEtProduitAssimile': 0, u'ParticipationSalariesAuxResultats': 0, u'InteretEtChargeAssimilees': 0, u'ProduitsExploitation': 40836, u'ChargesFinancieres': 0, u'AutresCharges': 1, u'Dividende': -1, u'ChargesNetteCessionValeurMobiliereDePlacement': 0, u'ProduitsAutresValeursMobiliereEtCreancesActifImmobilise': 0, u'ProductionStocked': 0, u'SubventionsExploitation': 0, u'RepriseDepreciationProvisionsTransfertCharges': 0, u'VariationStockMatierePremiereEtAppro': 0, u'DifferencesPositivesChange': 0, u'ProductionVendueDeBiens': 0, u'ResultatExceptionnel': 3180, u'ProduitExceptionnelOperationCapital': 0, u'DotationDepreciationImmobilisations': 0, u'AchatMatierePremiereAutreAppro': 0, u'ProductionImmobilisee': 0, u'@id': u'/api/compte_de_resultats/853', u'DotationAmortissementImmobilisations': 278, u'ChargesExceptionnelleOperationGestion': 1587, u'ProduitsFinanciersParticipations': 0, u'ProduitsNetsCessionsValeursMobilesPlacement': 0, u'ProductionVendueDeServices': 40816, u'ProduitsFinanciers': 0, u'ProduitExceptionnelOperationGestion': 4767, u'ChargesSociales': 2043, u'SalairesEtTraitements': 6893, u'ImpotsSurLesBenefices': 0, u'ChargesExploitation': 48266, u'AutresProduits': 20, u'@type': u'CompteDeResultat', u'ChargesExceptionnelleOperationCapital': 0, u'DotationDepreciationActifCirculant': 0}\n",
      "\n",
      "{u'DotationProvisions': 0, u'EffectifsMoyens': -1, u'DifferenceNegativeChange': 0, u'RepriseDepreciationEtProvisionTransfertsCharges': 0, u'ResultatFinancier': -1, u'DotationsFinancieresAmortissementDepreciationProvision': 0, u'ChiffresAffairesNet': 31860, u'VariationStockMarchandise': 1040, u'year': 2016, u'DotationExceptionnelleAmortissementDepreciationProvision': 0, u'RepriseDepreciationProvisionTransfertCharge': 0, u'AchatsDeMarchandises': 9904, u'Corporate': u'/api/corporates/2964', u'id': 854, u'VenteMarchandises': 15058, u'ImpotTaxesEtVersementsAssimiles': 593, u'AutresAchatEtChargesExternes': 7874, u'Benefice': 11278, u'ResultatExploitation': 11788, u'AutreInteretEtProduitAssimile': 0, u'ParticipationSalariesAuxResultats': 0, u'InteretEtChargeAssimilees': 1, u'ProduitsExploitation': 31860, u'ChargesFinancieres': 1, u'AutresCharges': 0, u'Dividende': -1, u'ChargesNetteCessionValeurMobiliereDePlacement': 0, u'ProduitsAutresValeursMobiliereEtCreancesActifImmobilise': 0, u'ProductionStocked': 0, u'SubventionsExploitation': 0, u'RepriseDepreciationProvisionsTransfertCharges': 0, u'VariationStockMatierePremiereEtAppro': 0, u'DifferencesPositivesChange': 0, u'ProductionVendueDeBiens': 0, u'ResultatExceptionnel': -508, u'ProduitExceptionnelOperationCapital': 0, u'DotationDepreciationImmobilisations': 0, u'AchatMatierePremiereAutreAppro': 0, u'ProductionImmobilisee': 0, u'@id': u'/api/compte_de_resultats/854', u'DotationAmortissementImmobilisations': 660, u'ChargesExceptionnelleOperationGestion': 0, u'ProduitsFinanciersParticipations': 0, u'ProduitsNetsCessionsValeursMobilesPlacement': 0, u'ProductionVendueDeServices': 16802, u'ProduitsFinanciers': 0, u'ProduitExceptionnelOperationGestion': 30, u'ChargesSociales': 0, u'SalairesEtTraitements': 0, u'ImpotsSurLesBenefices': 0, u'ChargesExploitation': 20072, u'AutresProduits': 0, u'@type': u'CompteDeResultat', u'ChargesExceptionnelleOperationCapital': 538, u'DotationDepreciationActifCirculant': 0}\n",
      "\n",
      "{u'DotationProvisions': 0, u'EffectifsMoyens': -1, u'DifferenceNegativeChange': 0, u'RepriseDepreciationEtProvisionTransfertsCharges': 0, u'ResultatFinancier': -450, u'DotationsFinancieresAmortissementDepreciationProvision': 0, u'ChiffresAffairesNet': 199085, u'VariationStockMarchandise': 4716, u'year': 2017, u'DotationExceptionnelleAmortissementDepreciationProvision': 0, u'RepriseDepreciationProvisionTransfertCharge': 0, u'AchatsDeMarchandises': 72624, u'Corporate': u'/api/corporates/2965', u'id': 855, u'VenteMarchandises': 199085, u'ImpotTaxesEtVersementsAssimiles': 4246, u'AutresAchatEtChargesExternes': 29171, u'Benefice': 13207, u'ResultatExploitation': 13658, u'AutreInteretEtProduitAssimile': 2, u'ParticipationSalariesAuxResultats': 0, u'InteretEtChargeAssimilees': 452, u'ProduitsExploitation': 199545, u'ChargesFinancieres': 452, u'AutresCharges': 50, u'Dividende': -1, u'ChargesNetteCessionValeurMobiliereDePlacement': 0, u'ProduitsAutresValeursMobiliereEtCreancesActifImmobilise': 0, u'ProductionStocked': 0, u'SubventionsExploitation': 0, u'RepriseDepreciationProvisionsTransfertCharges': 448, u'VariationStockMatierePremiereEtAppro': 0, u'DifferencesPositivesChange': 0, u'ProductionVendueDeBiens': 0, u'ResultatExceptionnel': 0, u'ProduitExceptionnelOperationCapital': 0, u'DotationDepreciationImmobilisations': 0, u'AchatMatierePremiereAutreAppro': 0, u'ProductionImmobilisee': 0, u'@id': u'/api/compte_de_resultats/855', u'DotationAmortissementImmobilisations': 1645, u'ChargesExceptionnelleOperationGestion': 0, u'ProduitsFinanciersParticipations': 0, u'ProduitsNetsCessionsValeursMobilesPlacement': 0, u'ProductionVendueDeServices': 0, u'ProduitsFinanciers': 2, u'ProduitExceptionnelOperationGestion': 0, u'ChargesSociales': 27700, u'SalairesEtTraitements': 45734, u'ImpotsSurLesBenefices': 0, u'ChargesExploitation': 185887, u'AutresProduits': 11, u'@type': u'CompteDeResultat', u'ChargesExceptionnelleOperationCapital': 0, u'DotationDepreciationActifCirculant': 0}\n",
      "\n",
      "{u'DotationProvisions': 0, u'EffectifsMoyens': -1, u'DifferenceNegativeChange': 0, u'RepriseDepreciationEtProvisionTransfertsCharges': 0, u'ResultatFinancier': 167300, u'DotationsFinancieresAmortissementDepreciationProvision': 0, u'ChiffresAffairesNet': 5000, u'VariationStockMarchandise': 0, u'year': 2017, u'DotationExceptionnelleAmortissementDepreciationProvision': 0, u'RepriseDepreciationProvisionTransfertCharge': 0, u'AchatsDeMarchandises': 0, u'Corporate': u'/api/corporates/2967', u'id': 856, u'VenteMarchandises': 0, u'ImpotTaxesEtVersementsAssimiles': 251, u'AutresAchatEtChargesExternes': 1887, u'Benefice': 168478, u'ResultatExploitation': 2862, u'AutreInteretEtProduitAssimile': 0, u'ParticipationSalariesAuxResultats': 0, u'InteretEtChargeAssimilees': 0, u'ProduitsExploitation': 5000, u'ChargesFinancieres': 0, u'AutresCharges': 0, u'Dividende': -1, u'ChargesNetteCessionValeurMobiliereDePlacement': 0, u'ProduitsAutresValeursMobiliereEtCreancesActifImmobilise': 0, u'ProductionStocked': 0, u'SubventionsExploitation': 0, u'RepriseDepreciationProvisionsTransfertCharges': 0, u'VariationStockMatierePremiereEtAppro': 0, u'DifferencesPositivesChange': 0, u'ProductionVendueDeBiens': 0, u'ResultatExceptionnel': 0, u'ProduitExceptionnelOperationCapital': 0, u'DotationDepreciationImmobilisations': 0, u'AchatMatierePremiereAutreAppro': 0, u'ProductionImmobilisee': 0, u'@id': u'/api/compte_de_resultats/856', u'DotationAmortissementImmobilisations': 0, u'ChargesExceptionnelleOperationGestion': 0, u'ProduitsFinanciersParticipations': 167300, u'ProduitsNetsCessionsValeursMobilesPlacement': 0, u'ProductionVendueDeServices': 5000, u'ProduitsFinanciers': 167300, u'ProduitExceptionnelOperationGestion': 0, u'ChargesSociales': 0, u'SalairesEtTraitements': 0, u'ImpotsSurLesBenefices': 1684, u'ChargesExploitation': 2138, u'AutresProduits': 0, u'@type': u'CompteDeResultat', u'ChargesExceptionnelleOperationCapital': 0, u'DotationDepreciationActifCirculant': 0}\n",
      "\n",
      "{u'DotationProvisions': 0, u'EffectifsMoyens': -1, u'DifferenceNegativeChange': 0, u'RepriseDepreciationEtProvisionTransfertsCharges': 0, u'ResultatFinancier': 25, u'DotationsFinancieresAmortissementDepreciationProvision': 0, u'ChiffresAffairesNet': 539479, u'VariationStockMarchandise': -6495, u'year': 2016, u'DotationExceptionnelleAmortissementDepreciationProvision': 0, u'RepriseDepreciationProvisionTransfertCharge': 0, u'AchatsDeMarchandises': 417336, u'Corporate': u'/api/corporates/2969', u'id': 857, u'VenteMarchandises': 525976, u'ImpotTaxesEtVersementsAssimiles': 2830, u'AutresAchatEtChargesExternes': 95012, u'Benefice': -36983, u'ResultatExploitation': -36849, u'AutreInteretEtProduitAssimile': 25, u'ParticipationSalariesAuxResultats': 0, u'InteretEtChargeAssimilees': 0, u'ProduitsExploitation': 540083, u'ChargesFinancieres': 0, u'AutresCharges': 3, u'Dividende': -1, u'ChargesNetteCessionValeurMobiliereDePlacement': 0, u'ProduitsAutresValeursMobiliereEtCreancesActifImmobilise': 0, u'ProductionStocked': 0, u'SubventionsExploitation': 0, u'RepriseDepreciationProvisionsTransfertCharges': 0, u'VariationStockMatierePremiereEtAppro': 0, u'DifferencesPositivesChange': 0, u'ProductionVendueDeBiens': 0, u'ResultatExceptionnel': -159, u'ProduitExceptionnelOperationCapital': 0, u'DotationDepreciationImmobilisations': 0, u'AchatMatierePremiereAutreAppro': 0, u'ProductionImmobilisee': 0, u'@id': u'/api/compte_de_resultats/857', u'DotationAmortissementImmobilisations': 203, u'ChargesExceptionnelleOperationGestion': 159, u'ProduitsFinanciersParticipations': 0, u'ProduitsNetsCessionsValeursMobilesPlacement': 0, u'ProductionVendueDeServices': 13502, u'ProduitsFinanciers': 25, u'ProduitExceptionnelOperationGestion': 0, u'ChargesSociales': 18658, u'SalairesEtTraitements': 45737, u'ImpotsSurLesBenefices': 0, u'ChargesExploitation': 576931, u'AutresProduits': 604, u'@type': u'CompteDeResultat', u'ChargesExceptionnelleOperationCapital': 0, u'DotationDepreciationActifCirculant': 3647}\n",
      "\n",
      "{u'DotationProvisions': 0, u'EffectifsMoyens': -1, u'DifferenceNegativeChange': 0, u'RepriseDepreciationEtProvisionTransfertsCharges': 0, u'ResultatFinancier': 0, u'DotationsFinancieresAmortissementDepreciationProvision': 0, u'ChiffresAffairesNet': 69152, u'VariationStockMarchandise': 0, u'year': 2016, u'DotationExceptionnelleAmortissementDepreciationProvision': 0, u'RepriseDepreciationProvisionTransfertCharge': 0, u'AchatsDeMarchandises': 290, u'Corporate': u'/api/corporates/2970', u'id': 858, u'VenteMarchandises': 0, u'ImpotTaxesEtVersementsAssimiles': 182, u'AutresAchatEtChargesExternes': 28284, u'Benefice': 3539, u'ResultatExploitation': 4143, u'AutreInteretEtProduitAssimile': 0, u'ParticipationSalariesAuxResultats': 0, u'InteretEtChargeAssimilees': 0, u'ProduitsExploitation': 69384, u'ChargesFinancieres': 0, u'AutresCharges': 1130, u'Dividende': -1, u'ChargesNetteCessionValeurMobiliereDePlacement': 0, u'ProduitsAutresValeursMobiliereEtCreancesActifImmobilise': 0, u'ProductionStocked': 0, u'SubventionsExploitation': 0, u'RepriseDepreciationProvisionsTransfertCharges': 232, u'VariationStockMatierePremiereEtAppro': -11760, u'DifferencesPositivesChange': 0, u'ProductionVendueDeBiens': 0, u'ResultatExceptionnel': 0, u'ProduitExceptionnelOperationCapital': 0, u'DotationDepreciationImmobilisations': 0, u'AchatMatierePremiereAutreAppro': 44095, u'ProductionImmobilisee': 0, u'@id': u'/api/compte_de_resultats/858', u'DotationAmortissementImmobilisations': 662, u'ChargesExceptionnelleOperationGestion': 0, u'ProduitsFinanciersParticipations': 0, u'ProduitsNetsCessionsValeursMobilesPlacement': 0, u'ProductionVendueDeServices': 69152, u'ProduitsFinanciers': 0, u'ProduitExceptionnelOperationGestion': 0, u'ChargesSociales': 364, u'SalairesEtTraitements': 1995, u'ImpotsSurLesBenefices': 604, u'ChargesExploitation': 65242, u'AutresProduits': 0, u'@type': u'CompteDeResultat', u'ChargesExceptionnelleOperationCapital': 0, u'DotationDepreciationActifCirculant': 0}\n",
      "\n",
      "{u'DotationProvisions': 0, u'EffectifsMoyens': -1, u'DifferenceNegativeChange': 0, u'RepriseDepreciationEtProvisionTransfertsCharges': 0, u'ResultatFinancier': -12136, u'DotationsFinancieresAmortissementDepreciationProvision': 0, u'ChiffresAffairesNet': 643651, u'VariationStockMarchandise': 0, u'year': 2016, u'DotationExceptionnelleAmortissementDepreciationProvision': 0, u'RepriseDepreciationProvisionTransfertCharge': 0, u'AchatsDeMarchandises': 0, u'Corporate': u'/api/corporates/2979', u'id': 859, u'VenteMarchandises': 0, u'ImpotTaxesEtVersementsAssimiles': 1086, u'AutresAchatEtChargesExternes': 476060, u'Benefice': 45541, u'ResultatExploitation': 73731, u'AutreInteretEtProduitAssimile': 0, u'ParticipationSalariesAuxResultats': 0, u'InteretEtChargeAssimilees': 12136, u'ProduitsExploitation': 550877, u'ChargesFinancieres': 12136, u'AutresCharges': 0, u'Dividende': -1, u'ChargesNetteCessionValeurMobiliereDePlacement': 0, u'ProduitsAutresValeursMobiliereEtCreancesActifImmobilise': 0, u'ProductionStocked': -92774, u'SubventionsExploitation': 0, u'RepriseDepreciationProvisionsTransfertCharges': 0, u'VariationStockMatierePremiereEtAppro': 0, u'DifferencesPositivesChange': 0, u'ProductionVendueDeBiens': 643651, u'ResultatExceptionnel': 0, u'ProduitExceptionnelOperationCapital': 0, u'DotationDepreciationImmobilisations': 0, u'AchatMatierePremiereAutreAppro': 0, u'ProductionImmobilisee': 0, u'@id': u'/api/compte_de_resultats/859', u'DotationAmortissementImmobilisations': 0, u'ChargesExceptionnelleOperationGestion': 0, u'ProduitsFinanciersParticipations': 0, u'ProduitsNetsCessionsValeursMobilesPlacement': 0, u'ProductionVendueDeServices': 0, u'ProduitsFinanciers': 0, u'ProduitExceptionnelOperationGestion': 0, u'ChargesSociales': 0, u'SalairesEtTraitements': 0, u'ImpotsSurLesBenefices': 16054, u'ChargesExploitation': 477146, u'AutresProduits': 0, u'@type': u'CompteDeResultat', u'ChargesExceptionnelleOperationCapital': 0, u'DotationDepreciationActifCirculant': 0}\n",
      "\n",
      "{u'DotationProvisions': 0, u'EffectifsMoyens': -1, u'DifferenceNegativeChange': 0, u'RepriseDepreciationEtProvisionTransfertsCharges': 0, u'ResultatFinancier': 28112, u'DotationsFinancieresAmortissementDepreciationProvision': 0, u'ChiffresAffairesNet': 0, u'VariationStockMarchandise': 0, u'year': 2017, u'DotationExceptionnelleAmortissementDepreciationProvision': 0, u'RepriseDepreciationProvisionTransfertCharge': 0, u'AchatsDeMarchandises': 0, u'Corporate': u'/api/corporates/2982', u'id': 860, u'VenteMarchandises': 0, u'ImpotTaxesEtVersementsAssimiles': 150, u'AutresAchatEtChargesExternes': 2885, u'Benefice': 27076, u'ResultatExploitation': -3035, u'AutreInteretEtProduitAssimile': 0, u'ParticipationSalariesAuxResultats': 0, u'InteretEtChargeAssimilees': 1887, u'ProduitsExploitation': 0, u'ChargesFinancieres': 1887, u'AutresCharges': 0, u'Dividende': -1, u'ChargesNetteCessionValeurMobiliereDePlacement': 0, u'ProduitsAutresValeursMobiliereEtCreancesActifImmobilise': 0, u'ProductionStocked': 0, u'SubventionsExploitation': 0, u'RepriseDepreciationProvisionsTransfertCharges': 0, u'VariationStockMatierePremiereEtAppro': 0, u'DifferencesPositivesChange': 0, u'ProductionVendueDeBiens': 0, u'ResultatExceptionnel': 2000, u'ProduitExceptionnelOperationCapital': 0, u'DotationDepreciationImmobilisations': 0, u'AchatMatierePremiereAutreAppro': 0, u'ProductionImmobilisee': 0, u'@id': u'/api/compte_de_resultats/860', u'DotationAmortissementImmobilisations': 0, u'ChargesExceptionnelleOperationGestion': 0, u'ProduitsFinanciersParticipations': 30000, u'ProduitsNetsCessionsValeursMobilesPlacement': 0, u'ProductionVendueDeServices': 0, u'ProduitsFinanciers': 30000, u'ProduitExceptionnelOperationGestion': 2000, u'ChargesSociales': 0, u'SalairesEtTraitements': 0, u'ImpotsSurLesBenefices': 0, u'ChargesExploitation': 3035, u'AutresProduits': 0, u'@type': u'CompteDeResultat', u'ChargesExceptionnelleOperationCapital': 0, u'DotationDepreciationActifCirculant': 0}\n",
      "\n",
      "{u'DotationProvisions': 0, u'EffectifsMoyens': -1, u'DifferenceNegativeChange': 0, u'RepriseDepreciationEtProvisionTransfertsCharges': 0, u'ResultatFinancier': -7850, u'DotationsFinancieresAmortissementDepreciationProvision': 0, u'ChiffresAffairesNet': 399544, u'VariationStockMarchandise': 0, u'year': 2016, u'DotationExceptionnelleAmortissementDepreciationProvision': 0, u'RepriseDepreciationProvisionTransfertCharge': 0, u'AchatsDeMarchandises': 0, u'Corporate': u'/api/corporates/2987', u'id': 861, u'VenteMarchandises': 0, u'ImpotTaxesEtVersementsAssimiles': 4972, u'AutresAchatEtChargesExternes': 81386, u'Benefice': 168, u'ResultatExploitation': 43858, u'AutreInteretEtProduitAssimile': 0, u'ParticipationSalariesAuxResultats': 0, u'InteretEtChargeAssimilees': 7850, u'ProduitsExploitation': 400847, u'ChargesFinancieres': 7850, u'AutresCharges': 33, u'Dividende': -1, u'ChargesNetteCessionValeurMobiliereDePlacement': 0, u'ProduitsAutresValeursMobiliereEtCreancesActifImmobilise': 0, u'ProductionStocked': 0, u'SubventionsExploitation': 0, u'RepriseDepreciationProvisionsTransfertCharges': 560, u'VariationStockMatierePremiereEtAppro': 2289, u'DifferencesPositivesChange': 0, u'ProductionVendueDeBiens': 391863, u'ResultatExceptionnel': -35840, u'ProduitExceptionnelOperationCapital': 0, u'DotationDepreciationImmobilisations': 0, u'AchatMatierePremiereAutreAppro': 145028, u'ProductionImmobilisee': 0, u'@id': u'/api/compte_de_resultats/861', u'DotationAmortissementImmobilisations': 19547, u'ChargesExceptionnelleOperationGestion': 0, u'ProduitsFinanciersParticipations': 0, u'ProduitsNetsCessionsValeursMobilesPlacement': 0, u'ProductionVendueDeServices': 7681, u'ProduitsFinanciers': 0, u'ProduitExceptionnelOperationGestion': 0, u'ChargesSociales': 14876, u'SalairesEtTraitements': 88858, u'ImpotsSurLesBenefices': 0, u'ChargesExploitation': 356989, u'AutresProduits': 742, u'@type': u'CompteDeResultat', u'ChargesExceptionnelleOperationCapital': 35840, u'DotationDepreciationActifCirculant': 0}\n",
      "\n",
      "{u'DotationProvisions': 0, u'EffectifsMoyens': -1, u'DifferenceNegativeChange': 0, u'RepriseDepreciationEtProvisionTransfertsCharges': 0, u'ResultatFinancier': -227443, u'DotationsFinancieresAmortissementDepreciationProvision': 0, u'ChiffresAffairesNet': 800011, u'VariationStockMarchandise': -43744, u'year': 2016, u'DotationExceptionnelleAmortissementDepreciationProvision': 0, u'RepriseDepreciationProvisionTransfertCharge': 0, u'AchatsDeMarchandises': 0, u'Corporate': u'/api/corporates/2994', u'id': 862, u'VenteMarchandises': 0, u'ImpotTaxesEtVersementsAssimiles': 5878, u'AutresAchatEtChargesExternes': 247948, u'Benefice': 376593, u'ResultatExploitation': 604036, u'AutreInteretEtProduitAssimile': 1347, u'ParticipationSalariesAuxResultats': 0, u'InteretEtChargeAssimilees': 228790, u'ProduitsExploitation': 814605, u'ChargesFinancieres': 228790, u'AutresCharges': 1, u'Dividende': -1, u'ChargesNetteCessionValeurMobiliereDePlacement': 0, u'ProduitsAutresValeursMobiliereEtCreancesActifImmobilise': 0, u'ProductionStocked': 0, u'SubventionsExploitation': 0, u'RepriseDepreciationProvisionsTransfertCharges': 4794, u'VariationStockMatierePremiereEtAppro': 0, u'DifferencesPositivesChange': 0, u'ProductionVendueDeBiens': 0, u'ResultatExceptionnel': 0, u'ProduitExceptionnelOperationCapital': 0, u'DotationDepreciationImmobilisations': 0, u'AchatMatierePremiereAutreAppro': 0, u'ProductionImmobilisee': 0, u'@id': u'/api/compte_de_resultats/862', u'DotationAmortissementImmobilisations': 0, u'ChargesExceptionnelleOperationGestion': 0, u'ProduitsFinanciersParticipations': 0, u'ProduitsNetsCessionsValeursMobilesPlacement': 0, u'ProductionVendueDeServices': 800011, u'ProduitsFinanciers': 1347, u'ProduitExceptionnelOperationGestion': 0, u'ChargesSociales': 0, u'SalairesEtTraitements': 0, u'ImpotsSurLesBenefices': 0, u'ChargesExploitation': 210569, u'AutresProduits': 9800, u'@type': u'CompteDeResultat', u'ChargesExceptionnelleOperationCapital': 0, u'DotationDepreciationActifCirculant': 487}\n",
      "\n",
      "{u'DotationProvisions': 0, u'EffectifsMoyens': -1, u'DifferenceNegativeChange': 0, u'RepriseDepreciationEtProvisionTransfertsCharges': 0, u'ResultatFinancier': 62386, u'DotationsFinancieresAmortissementDepreciationProvision': 0, u'ChiffresAffairesNet': 2120207, u'VariationStockMarchandise': -1450, u'year': 2017, u'DotationExceptionnelleAmortissementDepreciationProvision': 0, u'RepriseDepreciationProvisionTransfertCharge': 0, u'AchatsDeMarchandises': 1480485, u'Corporate': u'/api/corporates/2997', u'id': 863, u'VenteMarchandises': 1926168, u'ImpotTaxesEtVersementsAssimiles': 3349, u'AutresAchatEtChargesExternes': 87650, u'Benefice': 224515, u'ResultatExploitation': 260745, u'AutreInteretEtProduitAssimile': 77136, u'ParticipationSalariesAuxResultats': 0, u'InteretEtChargeAssimilees': 14750, u'ProduitsExploitation': 2133236, u'ChargesFinancieres': 14750, u'AutresCharges': 9622, u'Dividende': -1, u'ChargesNetteCessionValeurMobiliereDePlacement': 0, u'ProduitsAutresValeursMobiliereEtCreancesActifImmobilise': 0, u'ProductionStocked': 0, u'SubventionsExploitation': 0, u'RepriseDepreciationProvisionsTransfertCharges': 12998, u'VariationStockMatierePremiereEtAppro': 0, u'DifferencesPositivesChange': 0, u'ProductionVendueDeBiens': 0, u'ResultatExceptionnel': 0, u'ProduitExceptionnelOperationCapital': 0, u'DotationDepreciationImmobilisations': 0, u'AchatMatierePremiereAutreAppro': 0, u'ProductionImmobilisee': 0, u'@id': u'/api/compte_de_resultats/863', u'DotationAmortissementImmobilisations': 13373, u'ChargesExceptionnelleOperationGestion': 0, u'ProduitsFinanciersParticipations': 0, u'ProduitsNetsCessionsValeursMobilesPlacement': 0, u'ProductionVendueDeServices': 194038, u'ProduitsFinanciers': 77136, u'ProduitExceptionnelOperationGestion': 0, u'ChargesSociales': 37484, u'SalairesEtTraitements': 241979, u'ImpotsSurLesBenefices': 98616, u'ChargesExploitation': 1872491, u'AutresProduits': 32, u'@type': u'CompteDeResultat', u'ChargesExceptionnelleOperationCapital': 0, u'DotationDepreciationActifCirculant': 0}\n",
      "\n",
      "{u'DotationProvisions': 0, u'EffectifsMoyens': -1, u'DifferenceNegativeChange': 0, u'RepriseDepreciationEtProvisionTransfertsCharges': 0, u'ResultatFinancier': -2038, u'DotationsFinancieresAmortissementDepreciationProvision': 0, u'ChiffresAffairesNet': 381901, u'VariationStockMarchandise': 0, u'year': 2016, u'DotationExceptionnelleAmortissementDepreciationProvision': 0, u'RepriseDepreciationProvisionTransfertCharge': 0, u'AchatsDeMarchandises': 160899, u'Corporate': u'/api/corporates/2998', u'id': 864, u'VenteMarchandises': 230110, u'ImpotTaxesEtVersementsAssimiles': 5066, u'AutresAchatEtChargesExternes': 85831, u'Benefice': 2171, u'ResultatExploitation': 8003, u'AutreInteretEtProduitAssimile': 0, u'ParticipationSalariesAuxResultats': 0, u'InteretEtChargeAssimilees': 2038, u'ProduitsExploitation': 394038, u'ChargesFinancieres': 2038, u'AutresCharges': 57, u'Dividende': -1, u'ChargesNetteCessionValeurMobiliereDePlacement': 0, u'ProduitsAutresValeursMobiliereEtCreancesActifImmobilise': 0, u'ProductionStocked': 0, u'SubventionsExploitation': 0, u'RepriseDepreciationProvisionsTransfertCharges': 12136, u'VariationStockMatierePremiereEtAppro': -74, u'DifferencesPositivesChange': 0, u'ProductionVendueDeBiens': 0, u'ResultatExceptionnel': -3793, u'ProduitExceptionnelOperationCapital': 0, u'DotationDepreciationImmobilisations': 0, u'AchatMatierePremiereAutreAppro': 0, u'ProductionImmobilisee': 0, u'@id': u'/api/compte_de_resultats/864', u'DotationAmortissementImmobilisations': 645, u'ChargesExceptionnelleOperationGestion': 6536, u'ProduitsFinanciersParticipations': 0, u'ProduitsNetsCessionsValeursMobilesPlacement': 0, u'ProductionVendueDeServices': 151792, u'ProduitsFinanciers': 0, u'ProduitExceptionnelOperationGestion': 2762, u'ChargesSociales': 35633, u'SalairesEtTraitements': 97978, u'ImpotsSurLesBenefices': 0, u'ChargesExploitation': 386035, u'AutresProduits': 0, u'@type': u'CompteDeResultat', u'ChargesExceptionnelleOperationCapital': 20, u'DotationDepreciationActifCirculant': 0}\n",
      "\n",
      "{u'DotationProvisions': 0, u'EffectifsMoyens': -1, u'DifferenceNegativeChange': 0, u'RepriseDepreciationEtProvisionTransfertsCharges': 0, u'ResultatFinancier': -160, u'DotationsFinancieresAmortissementDepreciationProvision': 0, u'ChiffresAffairesNet': 0, u'VariationStockMarchandise': 0, u'year': 2016, u'DotationExceptionnelleAmortissementDepreciationProvision': 0, u'RepriseDepreciationProvisionTransfertCharge': 0, u'AchatsDeMarchandises': 0, u'Corporate': u'/api/corporates/3003', u'id': 865, u'VenteMarchandises': 0, u'ImpotTaxesEtVersementsAssimiles': 110, u'AutresAchatEtChargesExternes': 4829, u'Benefice': -5424, u'ResultatExploitation': -5264, u'AutreInteretEtProduitAssimile': 0, u'ParticipationSalariesAuxResultats': 0, u'InteretEtChargeAssimilees': 160, u'ProduitsExploitation': 2000, u'ChargesFinancieres': 160, u'AutresCharges': 0, u'Dividende': -1, u'ChargesNetteCessionValeurMobiliereDePlacement': 0, u'ProduitsAutresValeursMobiliereEtCreancesActifImmobilise': 0, u'ProductionStocked': 0, u'SubventionsExploitation': 0, u'RepriseDepreciationProvisionsTransfertCharges': 2000, u'VariationStockMatierePremiereEtAppro': 0, u'DifferencesPositivesChange': 0, u'ProductionVendueDeBiens': 0, u'ResultatExceptionnel': 0, u'ProduitExceptionnelOperationCapital': 0, u'DotationDepreciationImmobilisations': 0, u'AchatMatierePremiereAutreAppro': 0, u'ProductionImmobilisee': 0, u'@id': u'/api/compte_de_resultats/865', u'DotationAmortissementImmobilisations': 2325, u'ChargesExceptionnelleOperationGestion': 0, u'ProduitsFinanciersParticipations': 0, u'ProduitsNetsCessionsValeursMobilesPlacement': 0, u'ProductionVendueDeServices': 0, u'ProduitsFinanciers': 0, u'ProduitExceptionnelOperationGestion': 0, u'ChargesSociales': 0, u'SalairesEtTraitements': 0, u'ImpotsSurLesBenefices': 0, u'ChargesExploitation': 7264, u'AutresProduits': 0, u'@type': u'CompteDeResultat', u'ChargesExceptionnelleOperationCapital': 0, u'DotationDepreciationActifCirculant': 0}\n",
      "\n",
      "{u'DotationProvisions': 0, u'EffectifsMoyens': -1, u'DifferenceNegativeChange': 0, u'RepriseDepreciationEtProvisionTransfertsCharges': 0, u'ResultatFinancier': -2682, u'DotationsFinancieresAmortissementDepreciationProvision': 0, u'ChiffresAffairesNet': 493489, u'VariationStockMarchandise': -2724, u'year': 2017, u'DotationExceptionnelleAmortissementDepreciationProvision': 0, u'RepriseDepreciationProvisionTransfertCharge': 0, u'AchatsDeMarchandises': 283213, u'Corporate': u'/api/corporates/3012', u'id': 866, u'VenteMarchandises': 486467, u'ImpotTaxesEtVersementsAssimiles': 4248, u'AutresAchatEtChargesExternes': 90563, u'Benefice': 1893, u'ResultatExploitation': 4593, u'AutreInteretEtProduitAssimile': 14, u'ParticipationSalariesAuxResultats': 0, u'InteretEtChargeAssimilees': 2696, u'ProduitsExploitation': 496443, u'ChargesFinancieres': 2696, u'AutresCharges': 494, u'Dividende': -1, u'ChargesNetteCessionValeurMobiliereDePlacement': 0, u'ProduitsAutresValeursMobiliereEtCreancesActifImmobilise': 0, u'ProductionStocked': 0, u'SubventionsExploitation': 0, u'RepriseDepreciationProvisionsTransfertCharges': 2832, u'VariationStockMatierePremiereEtAppro': 0, u'DifferencesPositivesChange': 0, u'ProductionVendueDeBiens': 0, u'ResultatExceptionnel': -19, u'ProduitExceptionnelOperationCapital': 0, u'DotationDepreciationImmobilisations': 0, u'AchatMatierePremiereAutreAppro': 4589, u'ProductionImmobilisee': 0, u'@id': u'/api/compte_de_resultats/866', u'DotationAmortissementImmobilisations': 14396, u'ChargesExceptionnelleOperationGestion': 19, u'ProduitsFinanciersParticipations': 0, u'ProduitsNetsCessionsValeursMobilesPlacement': 0, u'ProductionVendueDeServices': 7022, u'ProduitsFinanciers': 14, u'ProduitExceptionnelOperationGestion': 0, u'ChargesSociales': 13586, u'SalairesEtTraitements': 83485, u'ImpotsSurLesBenefices': 0, u'ChargesExploitation': 491850, u'AutresProduits': 122, u'@type': u'CompteDeResultat', u'ChargesExceptionnelleOperationCapital': 0, u'DotationDepreciationActifCirculant': 0}\n",
      "\n",
      "{u'DotationProvisions': 0, u'EffectifsMoyens': -1, u'DifferenceNegativeChange': 0, u'RepriseDepreciationEtProvisionTransfertsCharges': 0, u'ResultatFinancier': -2402, u'DotationsFinancieresAmortissementDepreciationProvision': 0, u'ChiffresAffairesNet': 351835, u'VariationStockMarchandise': -1466, u'year': 2016, u'DotationExceptionnelleAmortissementDepreciationProvision': 0, u'RepriseDepreciationProvisionTransfertCharge': 0, u'AchatsDeMarchandises': 144573, u'Corporate': u'/api/corporates/3014', u'id': 867, u'VenteMarchandises': 336740, u'ImpotTaxesEtVersementsAssimiles': 3881, u'AutresAchatEtChargesExternes': 109197, u'Benefice': -7836, u'ResultatExploitation': -5434, u'AutreInteretEtProduitAssimile': 0, u'ParticipationSalariesAuxResultats': 0, u'InteretEtChargeAssimilees': 2402, u'ProduitsExploitation': 355975, u'ChargesFinancieres': 2402, u'AutresCharges': 5104, u'Dividende': -1, u'ChargesNetteCessionValeurMobiliereDePlacement': 0, u'ProduitsAutresValeursMobiliereEtCreancesActifImmobilise': 0, u'ProductionStocked': 0, u'SubventionsExploitation': 0, u'RepriseDepreciationProvisionsTransfertCharges': 4139, u'VariationStockMatierePremiereEtAppro': 0, u'DifferencesPositivesChange': 0, u'ProductionVendueDeBiens': 0, u'ResultatExceptionnel': 0, u'ProduitExceptionnelOperationCapital': 0, u'DotationDepreciationImmobilisations': 0, u'AchatMatierePremiereAutreAppro': 0, u'ProductionImmobilisee': 0, u'@id': u'/api/compte_de_resultats/867', u'DotationAmortissementImmobilisations': 13086, u'ChargesExceptionnelleOperationGestion': 0, u'ProduitsFinanciersParticipations': 0, u'ProduitsNetsCessionsValeursMobilesPlacement': 0, u'ProductionVendueDeServices': 15095, u'ProduitsFinanciers': 0, u'ProduitExceptionnelOperationGestion': 0, u'ChargesSociales': 13845, u'SalairesEtTraitements': 73189, u'ImpotsSurLesBenefices': 0, u'ChargesExploitation': 361409, u'AutresProduits': 1, u'@type': u'CompteDeResultat', u'ChargesExceptionnelleOperationCapital': 0, u'DotationDepreciationActifCirculant': 0}\n",
      "\n",
      "{u'DotationProvisions': 0, u'EffectifsMoyens': -1, u'DifferenceNegativeChange': 0, u'RepriseDepreciationEtProvisionTransfertsCharges': 0, u'ResultatFinancier': -635, u'DotationsFinancieresAmortissementDepreciationProvision': 0, u'ChiffresAffairesNet': 53535, u'VariationStockMarchandise': -596, u'year': 2016, u'DotationExceptionnelleAmortissementDepreciationProvision': 0, u'RepriseDepreciationProvisionTransfertCharge': 0, u'AchatsDeMarchandises': 8977, u'Corporate': u'/api/corporates/3015', u'id': 868, u'VenteMarchandises': 0, u'ImpotTaxesEtVersementsAssimiles': 518, u'AutresAchatEtChargesExternes': 23216, u'Benefice': -4820, u'ResultatExploitation': -4919, u'AutreInteretEtProduitAssimile': 0, u'ParticipationSalariesAuxResultats': 0, u'InteretEtChargeAssimilees': 635, u'ProduitsExploitation': 53535, u'ChargesFinancieres': 635, u'AutresCharges': 731, u'Dividende': -1, u'ChargesNetteCessionValeurMobiliereDePlacement': 0, u'ProduitsAutresValeursMobiliereEtCreancesActifImmobilise': 0, u'ProductionStocked': 0, u'SubventionsExploitation': 0, u'RepriseDepreciationProvisionsTransfertCharges': 0, u'VariationStockMatierePremiereEtAppro': 0, u'DifferencesPositivesChange': 0, u'ProductionVendueDeBiens': 0, u'ResultatExceptionnel': 735, u'ProduitExceptionnelOperationCapital': 0, u'DotationDepreciationImmobilisations': 0, u'AchatMatierePremiereAutreAppro': 0, u'ProductionImmobilisee': 0, u'@id': u'/api/compte_de_resultats/868', u'DotationAmortissementImmobilisations': 8883, u'ChargesExceptionnelleOperationGestion': 55, u'ProduitsFinanciersParticipations': 0, u'ProduitsNetsCessionsValeursMobilesPlacement': 0, u'ProductionVendueDeServices': 53535, u'ProduitsFinanciers': 0, u'ProduitExceptionnelOperationGestion': 790, u'ChargesSociales': 4387, u'SalairesEtTraitements': 12340, u'ImpotsSurLesBenefices': 0, u'ChargesExploitation': 58455, u'AutresProduits': 0, u'@type': u'CompteDeResultat', u'ChargesExceptionnelleOperationCapital': 0, u'DotationDepreciationActifCirculant': 0}\n",
      "\n",
      "{u'DotationProvisions': 0, u'EffectifsMoyens': -1, u'DifferenceNegativeChange': 0, u'RepriseDepreciationEtProvisionTransfertsCharges': 0, u'ResultatFinancier': 67, u'DotationsFinancieresAmortissementDepreciationProvision': 0, u'ChiffresAffairesNet': 598305, u'VariationStockMarchandise': -2231, u'year': 2017, u'DotationExceptionnelleAmortissementDepreciationProvision': 1341, u'RepriseDepreciationProvisionTransfertCharge': 0, u'AchatsDeMarchandises': 267800, u'Corporate': u'/api/corporates/3017', u'id': 869, u'VenteMarchandises': 293847, u'ImpotTaxesEtVersementsAssimiles': 3419, u'AutresAchatEtChargesExternes': 67347, u'Benefice': 32355, u'ResultatExploitation': 38716, u'AutreInteretEtProduitAssimile': 458, u'ParticipationSalariesAuxResultats': 0, u'InteretEtChargeAssimilees': 391, u'ProduitsExploitation': 608685, u'ChargesFinancieres': 391, u'AutresCharges': 2957, u'Dividende': -1, u'ChargesNetteCessionValeurMobiliereDePlacement': 0, u'ProduitsAutresValeursMobiliereEtCreancesActifImmobilise': 0, u'ProductionStocked': 0, u'SubventionsExploitation': 0, u'RepriseDepreciationProvisionsTransfertCharges': 10342, u'VariationStockMatierePremiereEtAppro': 3008, u'DifferencesPositivesChange': 0, u'ProductionVendueDeBiens': 202473, u'ResultatExceptionnel': -1263, u'ProduitExceptionnelOperationCapital': 0, u'DotationDepreciationImmobilisations': 0, u'AchatMatierePremiereAutreAppro': 46937, u'ProductionImmobilisee': 0, u'@id': u'/api/compte_de_resultats/869', u'DotationAmortissementImmobilisations': 7620, u'ChargesExceptionnelleOperationGestion': 250, u'ProduitsFinanciersParticipations': 0, u'ProduitsNetsCessionsValeursMobilesPlacement': 0, u'ProductionVendueDeServices': 101985, u'ProduitsFinanciers': 458, u'ProduitExceptionnelOperationGestion': 328, u'ChargesSociales': 22736, u'SalairesEtTraitements': 145126, u'ImpotsSurLesBenefices': 5165, u'ChargesExploitation': 569969, u'AutresProduits': 39, u'@type': u'CompteDeResultat', u'ChargesExceptionnelleOperationCapital': 0, u'DotationDepreciationActifCirculant': 5250}\n",
      "\n",
      "{u'DotationProvisions': 0, u'EffectifsMoyens': 4, u'DifferenceNegativeChange': 0, u'RepriseDepreciationEtProvisionTransfertsCharges': 0, u'ResultatFinancier': -2512, u'DotationsFinancieresAmortissementDepreciationProvision': 0, u'ChiffresAffairesNet': 3298750, u'VariationStockMarchandise': 0, u'year': 2016, u'DotationExceptionnelleAmortissementDepreciationProvision': 0, u'RepriseDepreciationProvisionTransfertCharge': 0, u'AchatsDeMarchandises': 100, u'Corporate': u'/api/corporates/3018', u'id': 870, u'VenteMarchandises': 0, u'ImpotTaxesEtVersementsAssimiles': 10749, u'AutresAchatEtChargesExternes': 2869145, u'Benefice': 75087, u'ResultatExploitation': 100704, u'AutreInteretEtProduitAssimile': 0, u'ParticipationSalariesAuxResultats': 0, u'InteretEtChargeAssimilees': 2512, u'ProduitsExploitation': 3319833, u'ChargesFinancieres': 2512, u'AutresCharges': 16835, u'Dividende': -1, u'ChargesNetteCessionValeurMobiliereDePlacement': 0, u'ProduitsAutresValeursMobiliereEtCreancesActifImmobilise': 0, u'ProductionStocked': 0, u'SubventionsExploitation': 0, u'RepriseDepreciationProvisionsTransfertCharges': 8817, u'VariationStockMatierePremiereEtAppro': 0, u'DifferencesPositivesChange': 0, u'ProductionVendueDeBiens': 0, u'ResultatExceptionnel': 322, u'ProduitExceptionnelOperationCapital': 0, u'DotationDepreciationImmobilisations': 0, u'AchatMatierePremiereAutreAppro': 1466, u'ProductionImmobilisee': 0, u'@id': u'/api/compte_de_resultats/870', u'DotationAmortissementImmobilisations': 0, u'ChargesExceptionnelleOperationGestion': 10, u'ProduitsFinanciersParticipations': 0, u'ProduitsNetsCessionsValeursMobilesPlacement': 0, u'ProductionVendueDeServices': 3298750, u'ProduitsFinanciers': 0, u'ProduitExceptionnelOperationGestion': 332, u'ChargesSociales': 76954, u'SalairesEtTraitements': 212647, u'ImpotsSurLesBenefices': 23428, u'ChargesExploitation': 3219129, u'AutresProduits': 12266, u'@type': u'CompteDeResultat', u'ChargesExceptionnelleOperationCapital': 0, u'DotationDepreciationActifCirculant': 31231}\n",
      "\n"
     ]
    }
   ],
   "source": [
    "### TEST / get accounts \n",
    "number_of_pages_accounts_test = 30\n",
    "pages_range_test = range(number_of_pages_accounts_test)\n",
    "get_req_results( \n",
    "    root_url_accounts, \n",
    "    pages_range_test, \n",
    "    number_of_pages_accounts_test,\n",
    "    results_path_accounts, \n",
    "    output_filename_accounts+'_test', \n",
    "    start_page=1, \n",
    "    splite_files_treshold_pages=10,\n",
    "    debug=True, \n",
    "    out_formats=[\"json\"] \n",
    ") "
   ]
  },
  {
   "cell_type": "code",
   "execution_count": null,
   "metadata": {},
   "outputs": [],
   "source": [
    "\n"
   ]
  },
  {
   "cell_type": "code",
   "execution_count": 52,
   "metadata": {},
   "outputs": [
    {
     "name": "stdout",
     "output_type": "stream",
     "text": [
      "\n",
      "Page number : 99 / 19243 \n",
      "delta_time (after request) : 0:00:42.792007\n",
      "\n"
     ]
    }
   ],
   "source": [
    "### get corpos data\n",
    "number_of_results_corpos = 577297\n",
    "results_per_page = 30\n",
    "number_of_pages_corpos = int( math.ceil( number_of_results_corpos / results_per_page ) )\n",
    "print number_of_pages_corpos\n",
    "pages_to_scrap_corpos = range( number_of_pages_corpos )\n",
    "print pages_to_scrap_corpos[:3]\n",
    "\n",
    "start_page_corpos = 1\n",
    "file_suffix_corpos = '_04'\n",
    "\n",
    "get_req_results( \n",
    "    root_url_corpos, \n",
    "    pages_to_scrap_corpos, \n",
    "    number_of_pages_corpos,\n",
    "    results_path_corpos, \n",
    "    output_filename_corpos+file_suffix_corpos, \n",
    "    start_page=start_page_corpos, \n",
    "    splite_files_treshold_pages=1000,\n",
    "    debug=False, \n",
    "    out_formats=[\"json\"] \n",
    ") "
   ]
  },
  {
   "cell_type": "code",
   "execution_count": null,
   "metadata": {},
   "outputs": [],
   "source": []
  },
  {
   "cell_type": "code",
   "execution_count": null,
   "metadata": {},
   "outputs": [],
   "source": []
  },
  {
   "cell_type": "code",
   "execution_count": null,
   "metadata": {},
   "outputs": [
    {
     "name": "stdout",
     "output_type": "stream",
     "text": [
      "\n",
      "Page number : 5825 / 10539                     \n",
      "delta_time (after request) : 1:12:34.335687                    \n",
      "page_treshold : 5000                    \n",
      "filename : datasets/account_results/accounts_04-pageStart_5000                    \n",
      "\n"
     ]
    }
   ],
   "source": [
    "### get accounts data\n",
    "number_of_results_account = 316182\n",
    "results_per_page = 30\n",
    "number_of_pages_accounts = int( math.ceil( number_of_results_account / results_per_page ) )\n",
    "print number_of_pages_accounts\n",
    "pages_to_scrap_accounts = range( number_of_pages_accounts )\n",
    "print pages_to_scrap_accounts[:3]\n",
    "\n",
    "start_page_accounts = 1\n",
    "file_suffix_accounts = '_05'\n",
    "\n",
    "get_req_results( \n",
    "    root_url_accounts, \n",
    "    pages_to_scrap_accounts, \n",
    "    number_of_pages_accounts,\n",
    "    results_path_accounts, \n",
    "    output_filename_accounts+file_suffix_accounts, \n",
    "    start_page=start_page_accounts, \n",
    "    splite_files_treshold_pages=500,\n",
    "    debug=False, \n",
    "    out_formats=[\"json\"] \n",
    ") "
   ]
  },
  {
   "cell_type": "code",
   "execution_count": null,
   "metadata": {},
   "outputs": [],
   "source": []
  }
 ],
 "metadata": {
  "kernelspec": {
   "display_name": "Python 2",
   "language": "python",
   "name": "python2"
  },
  "language_info": {
   "codemirror_mode": {
    "name": "ipython",
    "version": 2
   },
   "file_extension": ".py",
   "mimetype": "text/x-python",
   "name": "python",
   "nbconvert_exporter": "python",
   "pygments_lexer": "ipython2",
   "version": "2.7.14"
  }
 },
 "nbformat": 4,
 "nbformat_minor": 2
}
